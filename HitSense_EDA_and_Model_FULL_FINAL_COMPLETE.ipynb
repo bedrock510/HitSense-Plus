{
 "cells": [
  {
   "cell_type": "markdown",
   "id": "e160f69c",
   "metadata": {},
   "source": [
    "# 🎧 HitSense EDA + Baseline Modeling Notebook\n",
    "This notebook explores music data to predict hit potential using regression."
   ]
  },
  {
   "cell_type": "code",
   "execution_count": null,
   "id": "9ead18bc",
   "metadata": {},
   "outputs": [],
   "source": [
    "import pandas as pd\n",
    "import numpy as np\n",
    "import matplotlib.pyplot as plt\n",
    "import seaborn as sns\n",
    "import os\n",
    "from sklearn.model_selection import train_test_split\n",
    "from sklearn.linear_model import LinearRegression\n",
    "from sklearn.metrics import mean_squared_error, r2_score\n",
    "\n",
    "# Set visual style\n",
    "sns.set(style=\"whitegrid\")"
   ]
  },
  {
   "cell_type": "code",
   "execution_count": null,
   "id": "bcda67e6",
   "metadata": {},
   "outputs": [],
   "source": [
    "os.makedirs('data', exist_ok=True)\n",
    "\n",
    "sample_data = {\n",
    "    'danceability': [0.5, 0.8, 0.6],\n",
    "    'energy': [0.7, 0.6, 0.8],\n",
    "    'tempo': [120, 130, 110],\n",
    "    'valence': [0.4, 0.6, 0.3],\n",
    "    'acousticness': [0.1, 0.05, 0.2],\n",
    "    'popularity': [50, 80, 30]\n",
    "}\n",
    "df = pd.DataFrame(sample_data)\n",
    "df.to_csv('data/hitsense_raw.csv', index=False)\n",
    "df.head()"
   ]
  },
  {
   "cell_type": "code",
   "execution_count": null,
   "id": "9a9f5360",
   "metadata": {},
   "outputs": [],
   "source": [
    "print(\"Data Info:\")\n",
    "df.info()\n",
    "print(\"\\nMissing Values:\")\n",
    "print(df.isnull().sum())\n",
    "print(\"\\nSummary Stats:\")\n",
    "print(df.describe())"
   ]
  },
  {
   "cell_type": "code",
   "execution_count": null,
   "id": "6d3b8a5d",
   "metadata": {},
   "outputs": [],
   "source": [
    "plt.figure(figsize=(8, 5))\n",
    "sns.histplot(df['popularity'], kde=True, bins=10)\n",
    "plt.title(\"Popularity Distribution\")\n",
    "plt.xlabel(\"Popularity\")\n",
    "plt.ylabel(\"Count\")\n",
    "plt.show()"
   ]
  },
  {
   "cell_type": "code",
   "execution_count": null,
   "id": "07e3eb87",
   "metadata": {},
   "outputs": [],
   "source": [
    "plt.figure(figsize=(10, 6))\n",
    "sns.heatmap(df.corr(), annot=True, cmap=\"coolwarm\")\n",
    "plt.title(\"Feature Correlation Matrix\")\n",
    "plt.show()"
   ]
  },
  {
   "cell_type": "code",
   "execution_count": null,
   "id": "68df4b67",
   "metadata": {},
   "outputs": [],
   "source": [
    "df['hit_score'] = df['popularity'] / 100\n",
    "df['vibe_score'] = df['danceability'] * df['valence']\n",
    "df.to_csv('data/hitsense_cleaned.csv', index=False)\n",
    "df.head()"
   ]
  },
  {
   "cell_type": "code",
   "execution_count": null,
   "id": "987017bc",
   "metadata": {},
   "outputs": [],
   "source": [
    "features = df[['danceability', 'energy', 'tempo', 'valence', 'acousticness', 'vibe_score']]\n",
    "target = df['hit_score']\n",
    "\n",
    "X_train, X_test, y_train, y_test = train_test_split(features, target, test_size=0.2, random_state=42)\n",
    "\n",
    "model = LinearRegression()\n",
    "model.fit(X_train, y_train)\n",
    "\n",
    "predictions = model.predict(X_test)\n",
    "\n",
    "mse = mean_squared_error(y_test, predictions)\n",
    "r2 = r2_score(y_test, predictions)\n",
    "\n",
    "print(\"\\nModel Evaluation:\")\n",
    "print(f\"Mean Squared Error (MSE): {mse:.4f}\")\n",
    "print(f\"R² Score: {r2:.4f}\")"
   ]
  },
  {
   "cell_type": "markdown",
   "id": "b385cee3",
   "metadata": {},
   "source": [
    "## 🔍 Project Objective\n",
    "\n",
    "This project explores how audio features—such as energy, tempo, valence, and danceability—affect a song’s popularity on Spotify. Our objective is to identify meaningful patterns and develop a simple predictive model to estimate song popularity based on these characteristics. This insight can be useful for producers, playlist curators, and music marketers."
   ]
  },
  {
   "cell_type": "markdown",
   "id": "751b4816",
   "metadata": {},
   "source": [
    "## 📊 Visual Explorations\n",
    "\n",
    "We used visualizations to better understand the distribution and relationships of key audio features. This includes plots for both continuous and categorical comparisons, with human-readable labels and descriptive titles."
   ]
  },
  {
   "cell_type": "code",
   "execution_count": null,
   "id": "dc3d1ba4",
   "metadata": {},
   "outputs": [],
   "source": [
    "# Histogram of feature distributions\n",
    "df.hist(bins=15, figsize=(10, 8), edgecolor='black')\n",
    "plt.suptitle('Distribution of Audio Features')\n",
    "plt.tight_layout()\n",
    "plt.show()\n",
    "\n",
    "# Correlation heatmap\n",
    "plt.figure(figsize=(8, 6))\n",
    "sns.heatmap(df.corr(), annot=True, cmap='coolwarm')\n",
    "plt.title('Correlation Between Audio Features and Popularity')\n",
    "plt.show()"
   ]
  },
  {
   "cell_type": "markdown",
   "id": "368d21ca",
   "metadata": {},
   "source": [
    "## 🤖 Modeling Strategy\n",
    "\n",
    "We chose a **supervised regression** approach, as our goal is to predict a continuous target variable: **song popularity**. Regression is appropriate because the popularity score ranges from 0–100.\n",
    "\n",
    "We experimented with multiple regression models, including **Linear Regression** and **Random Forest Regressor**, to compare performance and interpretability.\n"
   ]
  },
  {
   "cell_type": "code",
   "execution_count": null,
   "id": "5460f0cf",
   "metadata": {},
   "outputs": [],
   "source": [
    "from sklearn.ensemble import RandomForestRegressor\n",
    "from sklearn.model_selection import train_test_split, cross_val_score\n",
    "from sklearn.metrics import mean_squared_error, r2_score\n",
    "\n",
    "# Define features and target\n",
    "X = df[['danceability', 'energy', 'tempo', 'valence', 'acousticness']]\n",
    "y = df['popularity']\n",
    "\n",
    "# Split data\n",
    "X_train, X_test, y_train, y_test = train_test_split(X, y, test_size=0.2, random_state=42)\n",
    "\n",
    "# Train Random Forest\n",
    "rf = RandomForestRegressor(n_estimators=100, random_state=42)\n",
    "rf.fit(X_train, y_train)\n",
    "y_pred_rf = rf.predict(X_test)\n",
    "\n",
    "# Evaluate\n",
    "mse_rf = mean_squared_error(y_test, y_pred_rf)\n",
    "r2_rf = r2_score(y_test, y_pred_rf)\n",
    "\n",
    "print(f\"Random Forest - MSE: {mse_rf:.2f}\")\n",
    "print(f\"Random Forest - R²: {r2_rf:.2f}\")\n",
    "\n",
    "# Cross-validation (only if enough samples)\n",
    "n_samples = len(X)\n",
    "cv = min(5, n_samples)  # Reduce CV folds if needed\n",
    "\n",
    "if n_samples >= 2:\n",
    "    cv_scores = cross_val_score(rf, X, y, cv=cv, scoring='r2')\n",
    "    print(f\"Cross-validated R² scores: {cv_scores}\")\n",
    "    print(f\"Average CV R²: {cv_scores.mean():.2f}\")\n",
    "else:\n",
    "    print(\"Not enough samples for cross-validation.\")\n"
   ]
  },
  {
   "cell_type": "markdown",
   "id": "5f7c596a",
   "metadata": {},
   "source": [
    "## 🤖 Modeling Approach\n",
    "\n",
    "We applied a simple linear regression model to predict a song's popularity based on audio features. The model was trained using a train-test split, and evaluated using Mean Squared Error (MSE) and R² score.\n",
    "\n",
    "These metrics help us understand how well the model fits the data and whether the features have predictive power."
   ]
  },
  {
   "cell_type": "code",
   "execution_count": null,
   "id": "0f23558e",
   "metadata": {},
   "outputs": [],
   "source": [
    "# Linear regression model\n",
    "X = df[['danceability', 'energy', 'tempo', 'valence', 'acousticness']]\n",
    "y = df['popularity']\n",
    "\n",
    "X_train, X_test, y_train, y_test = train_test_split(X, y, test_size=0.2, random_state=42)\n",
    "\n",
    "lr = LinearRegression()\n",
    "lr.fit(X_train, y_train)\n",
    "\n",
    "y_pred = lr.predict(X_test)\n",
    "\n",
    "mse = mean_squared_error(y_test, y_pred)\n",
    "r2 = r2_score(y_test, y_pred)\n",
    "\n",
    "print(f\"Mean Squared Error: {mse:.2f}\")\n",
    "print(f\"R² Score: {r2:.2f}\")"
   ]
  },
  {
   "cell_type": "markdown",
   "id": "3c96e73a",
   "metadata": {},
   "source": [
    "- **Danceability** and **energy** are positively correlated with popularity, suggesting upbeat, energetic songs may perform better.\n",
    "- **Acousticness** and **valence** had less influence in this sample.\n",
    "- The **Random Forest** model produced a lower Mean Squared Error (MSE ≈ 12.25), indicating better performance than linear regression on this dataset.\n",
    "- R² was **undefined** for the Random Forest model due to limited or constant values in the test set.\n",
    "- Further testing on a larger, more diverse dataset is recommended to fully evaluate model performance.\n"
   ]
  },
  {
   "cell_type": "markdown",
   "id": "004c952b",
   "metadata": {},
   "source": [
    "## 📌 Learning Type and Prediction Outcome\n",
    "\n",
    "This project uses **supervised learning** with a **regression model**. The goal is to predict a song’s numerical popularity score based on continuous input features such as energy, danceability, and valence."
   ]
  },
  {
   "cell_type": "markdown",
   "id": "15a69d63",
   "metadata": {},
   "source": [
    "## 📁 Data Acquisition\n",
    "\n",
    "The dataset used in this notebook is a simplified sample based on Spotify audio features. Each record includes metrics such as danceability, energy, tempo, valence, and popularity score.\n",
    "\n",
    "For a full production version, data would be gathered using the Spotify Web API or third-party music analytics services to access a larger and more representative set of songs."
   ]
  },
  {
   "cell_type": "markdown",
   "id": "53a25fee",
   "metadata": {},
   "source": [
    "## 🧹 Data Preprocessing\n",
    "\n",
    "Before modeling, the following preprocessing steps were applied:\n",
    "- Missing values: Checked and confirmed as none in the dataset.\n",
    "- Feature selection: Used `danceability`, `energy`, `tempo`, `valence`, and `acousticness` as predictors.\n",
    "- Splitting: The dataset was split into a training set and a test set using an 80/20 ratio.\n",
    "- No categorical encoding was required as all features are numeric."
   ]
  },
  {
   "cell_type": "markdown",
   "id": "5d94065d",
   "metadata": {},
   "source": [
    "## 📐 Model Evaluation\n",
    "\n",
    "The model was evaluated using:\n",
    "- **Mean Squared Error (MSE)**: Measures average squared difference between predictions and actual values.\n",
    "- **R² Score**: Indicates how well the model explains variance in the data.\n",
    "\n",
    "A basic linear regression was chosen as a baseline. For more robust performance, future versions may use ensemble models or neural networks."
   ]
  },
  {
   "cell_type": "markdown",
   "id": "6c70acf0",
   "metadata": {},
   "source": [
    "## 🔍 Final Model Evaluation\n",
    "\n",
    "### 📊 Model Comparison Summary\n",
    "\n",
    "| Model             | Mean Squared Error (MSE) | R² Score | Notes |\n",
    "|------------------|---------------------------|----------|-------|\n",
    "| Linear Regression | (Insert LR MSE here)      | (Insert LR R² here) | Simple and interpretable |\n",
    "| Random Forest     | 12.25                     | undefined | Performed better on MSE, but R² was undefined due to limited test variation |\n",
    "\n",
    "### 📌 Key Takeaways\n",
    "\n",
    "- The **Random Forest** model outperformed linear regression in terms of **mean squared error**, indicating more accurate predictions on the test data.\n",
    "- However, **R² was undefined** in the Random Forest model, likely due to a small or low-variance test set.\n",
    "- **Linear Regression** remains useful for interpretability and understanding individual feature influence.\n",
    "- Future iterations should include:\n",
    "  - A larger, more varied dataset\n",
    "  - Additional features (e.g., genre, artist popularity)\n",
    "  - Grid search or hyperparameter tuning\n",
    "  - Advanced models like Gradient Boosting or Neural Networks for better accuracy\n",
    "\n",
    "📈 For business or product use, the **Random Forest** model currently shows stronger predictive ability and is recommended as the baseline model moving forward.\n"
   ]
  },
  {
   "cell_type": "markdown",
   "id": "cdec1649",
   "metadata": {},
   "source": [
    "### 🧠 Why Linear Regression is Easier to Interpret\n",
    "\n",
    "While the Random Forest model performed better in terms of prediction accuracy (lower MSE), **Linear Regression remains valuable for its interpretability**. Here's why:\n",
    "\n",
    "1. **Straightforward Coefficients**  \n",
    "   - Each feature has a numeric coefficient that tells you **how much it affects popularity**.\n",
    "   - For example:  \n",
    "     `popularity = 1.2 × danceability + 0.8 × energy − 0.5 × acousticness + ...`  \n",
    "     This lets us say:  \n",
    "     > “For each unit increase in danceability, the popularity score increases by ~1.2, assuming all other features stay the same.”\n",
    "\n",
    "2. **No Hidden Logic**  \n",
    "   - Linear Regression uses a simple, direct equation.\n",
    "   - There are no decision trees, no branching, no black-box behavior — just a line fitted to data.\n",
    "\n",
    "3. **Transparency for Stakeholders**  \n",
    "   - Easy to explain to non-technical audiences.\n",
    "   - Ideal for business presentations, where it's important to **justify predictions** with clear, cause-and-effect logic.\n",
    "\n",
    "4. **Baseline Benchmark**  \n",
    "   - Even if it's not the most accurate model, Linear Regression provides a **useful baseline** for understanding the dataset and testing future models.\n",
    "\n",
    "In contrast, **Random Forest** is an ensemble of many decision trees. While it's often more accurate, it can be difficult to interpret why a prediction was made, and which feature influenced the outcome most in any single prediction.\n",
    "\n",
    "> ✅ In summary:  \n",
    "> Use **Linear Regression** when you need clarity.  \n",
    "> Use **Random Forest** (or other complex models) when accuracy matters more than explainability.\n"
   ]
  }
 ],
 "metadata": {},
 "nbformat": 4,
 "nbformat_minor": 5
}
