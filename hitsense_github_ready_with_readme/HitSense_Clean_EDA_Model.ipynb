{
 "cells": [
  {
   "cell_type": "markdown",
   "id": "e160f69c",
   "metadata": {},
   "source": [
    "# 🎧 HitSense EDA + Baseline Modeling Notebook\n",
    "This notebook explores music data to predict hit potential using regression."
   ]
  },
  {
   "cell_type": "code",
   "execution_count": null,
   "id": "9ead18bc",
   "metadata": {},
   "outputs": [],
   "source": [
    "import pandas as pd\n",
    "import numpy as np\n",
    "import matplotlib.pyplot as plt\n",
    "import seaborn as sns\n",
    "import os\n",
    "from sklearn.model_selection import train_test_split\n",
    "from sklearn.linear_model import LinearRegression\n",
    "from sklearn.metrics import mean_squared_error, r2_score\n",
    "\n",
    "# Set visual style\n",
    "sns.set(style=\"whitegrid\")"
   ]
  },
  {
   "cell_type": "code",
   "execution_count": null,
   "id": "bcda67e6",
   "metadata": {},
   "outputs": [],
   "source": [
    "os.makedirs('data', exist_ok=True)\n",
    "\n",
    "sample_data = {\n",
    "    'danceability': [0.5, 0.8, 0.6],\n",
    "    'energy': [0.7, 0.6, 0.8],\n",
    "    'tempo': [120, 130, 110],\n",
    "    'valence': [0.4, 0.6, 0.3],\n",
    "    'acousticness': [0.1, 0.05, 0.2],\n",
    "    'popularity': [50, 80, 30]\n",
    "}\n",
    "df = pd.DataFrame(sample_data)\n",
    "df.to_csv('data/hitsense_raw.csv', index=False)\n",
    "df.head()"
   ]
  },
  {
   "cell_type": "code",
   "execution_count": null,
   "id": "9a9f5360",
   "metadata": {},
   "outputs": [],
   "source": [
    "print(\"Data Info:\")\n",
    "df.info()\n",
    "print(\"\\nMissing Values:\")\n",
    "print(df.isnull().sum())\n",
    "print(\"\\nSummary Stats:\")\n",
    "print(df.describe())"
   ]
  },
  {
   "cell_type": "code",
   "execution_count": null,
   "id": "6d3b8a5d",
   "metadata": {},
   "outputs": [],
   "source": [
    "plt.figure(figsize=(8, 5))\n",
    "sns.histplot(df['popularity'], kde=True, bins=10)\n",
    "plt.title(\"Popularity Distribution\")\n",
    "plt.xlabel(\"Popularity\")\n",
    "plt.ylabel(\"Count\")\n",
    "plt.show()"
   ]
  },
  {
   "cell_type": "code",
   "execution_count": null,
   "id": "07e3eb87",
   "metadata": {},
   "outputs": [],
   "source": [
    "plt.figure(figsize=(10, 6))\n",
    "sns.heatmap(df.corr(), annot=True, cmap=\"coolwarm\")\n",
    "plt.title(\"Feature Correlation Matrix\")\n",
    "plt.show()"
   ]
  },
  {
   "cell_type": "code",
   "execution_count": null,
   "id": "68df4b67",
   "metadata": {},
   "outputs": [],
   "source": [
    "df['hit_score'] = df['popularity'] / 100\n",
    "df['vibe_score'] = df['danceability'] * df['valence']\n",
    "df.to_csv('data/hitsense_cleaned.csv', index=False)\n",
    "df.head()"
   ]
  },
  {
   "cell_type": "code",
   "execution_count": null,
   "id": "987017bc",
   "metadata": {},
   "outputs": [],
   "source": [
    "features = df[['danceability', 'energy', 'tempo', 'valence', 'acousticness', 'vibe_score']]\n",
    "target = df['hit_score']\n",
    "\n",
    "X_train, X_test, y_train, y_test = train_test_split(features, target, test_size=0.2, random_state=42)\n",
    "\n",
    "model = LinearRegression()\n",
    "model.fit(X_train, y_train)\n",
    "\n",
    "predictions = model.predict(X_test)\n",
    "\n",
    "mse = mean_squared_error(y_test, predictions)\n",
    "r2 = r2_score(y_test, predictions)\n",
    "\n",
    "print(\"\\nModel Evaluation:\")\n",
    "print(f\"Mean Squared Error (MSE): {mse:.4f}\")\n",
    "print(f\"R² Score: {r2:.4f}\")"
   ]
  }
 ],
 "metadata": {},
 "nbformat": 4,
 "nbformat_minor": 5
}
